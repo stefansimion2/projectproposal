{
 "cells": [
  {
   "cell_type": "markdown",
   "id": "fcd92964",
   "metadata": {},
   "source": [
    "# Project Proposal"
   ]
  },
  {
   "cell_type": "markdown",
   "id": "75d2f1ba",
   "metadata": {},
   "source": [
    "________________________________________________________________________________________________________________________________\n",
    "### The first research question is:\n",
    " Does participation in community events correlate with higher self-reported happiness levels?\n",
    "\n",
    "The metric of interest is the average difference in satisfaction levels between those who attend community activities and those who do not. The primary variables studied are community participation (independent variable) and happiness level (dependent variable), which were chosen for their importance in understanding the link between social involvement and general well-being. To investigate these, summary statistics such as mean, median, and standard deviation will be generated for both variables, with histograms and box plots graphically depicting their distributions. Histograms indicate the data's dispersion and central trend, whereas box plots show probable outliers. The analysis plan includes Bootstrapping is used to provide confidence intervals for the mean difference in happiness levels, while the sampling distribution is estimated by simulating repeated samples from the dataset. This approach does not imply normalcy, making it suitable for the analysis. The hypothesis is that involvement in community activities is related with greater happiness levels. The null hypothesis (𝐻0: no effect) may be rejected if the confidence interval for the mean difference does not contain zero. A substantial outcome would highlight the potential mental health advantages of community participation."
   ]
  },
  {
   "cell_type": "markdown",
   "id": "a224b169",
   "metadata": {},
   "source": [
    "### The second  research question is :\n",
    " is there a significant linear relationship between social support and stress levels?\n",
    " \n",
    " Here, I look at ‘social support' as a independent variable and stress level as a dependent variable. These factors are selected to determine if increasing social support is associated to lower stress levels on average, offering a measurable approach to comprehending this link. Scatter plots with regression lines will be used to visually represent the correlation and trends between these variables. The analysis will use linear regression to predict stress levels using social support and calculate the slope coefficient (β1). The linear regression assumptions—linearity and residual normality—will be tested using plots such as residual vs. fitted plots and residual histograms. The null hypothesis (H0) implies that there is no linear connection (β1 = 0). I predict that the model will have a negative slope, indicating that greater social support correlates with lower stress levels. If the p-value for the slope coefficient is less than a selected significance level, we can reject H0, indicating a significant connection.\n"
   ]
  },
  {
   "cell_type": "markdown",
   "id": "99f93d1a",
   "metadata": {},
   "source": [
    "### The thrid research question is:\n",
    " how different demographic and social characteristics, such as age and gender, relate to stress levels and social support.\n",
    " \n",
    " My group and I will look at factors like age, gender, social support, and stress level. This study will employ a combined for loop to run over the data, giving personalized summaries and visuals based on the data type(histograms for numeric variables and bar graphs for categorical categories). This technique assures that the analysis may be reused and applied to any collection of columns. Summarizing statistics will include metrics such as the mean for numerical data and value counts for categorical data, as well as graphics that effectively depict trends, distributions, and group comparisons. The analysis will then proceed to linear regression, employing indicator variables for categories (e.g. male vs. female), to see if demographic characteristics interact significantly with social support in predicting stress. This is followed by residual analysis and permutation testing to confirm the findings. I anticipate that groups with stronger social support will have consistently lower stress levels across all demographics. These findings will be useful for understanding the complex influence of social variables on well-being.\n",
    "________________________________________________________________________________________________________________________________"
   ]
  },
  {
   "cell_type": "markdown",
   "id": "4166a946",
   "metadata": {},
   "source": [
    "### Ethical considerations:\n",
    "Ethical issues throughout these studies include protecting participants' privacy and anonymity, avoiding bias in data interpretation, and publishing results responsibly without implying causality when simply correlation is examined. Careful care is taken to prevent harming or misrepresenting any demographic group, and findings will be presented clearly, with a clear acknowledgement of the study's limitations. \n"
   ]
  },
  {
   "cell_type": "code",
   "execution_count": null,
   "id": "1cfb8a82",
   "metadata": {},
   "outputs": [],
   "source": []
  }
 ],
 "metadata": {
  "kernelspec": {
   "display_name": "Python 3 (ipykernel)",
   "language": "python",
   "name": "python3"
  },
  "language_info": {
   "codemirror_mode": {
    "name": "ipython",
    "version": 3
   },
   "file_extension": ".py",
   "mimetype": "text/x-python",
   "name": "python",
   "nbconvert_exporter": "python",
   "pygments_lexer": "ipython3",
   "version": "3.11.6"
  }
 },
 "nbformat": 4,
 "nbformat_minor": 5
}
